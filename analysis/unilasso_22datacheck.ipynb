{
 "cells": [
  {
   "cell_type": "markdown",
   "id": "5618a934",
   "metadata": {},
   "source": [
    "# UCI 22 datasets checking"
   ]
  },
  {
   "cell_type": "code",
   "execution_count": null,
   "id": "b10411c6",
   "metadata": {},
   "outputs": [],
   "source": [
    "# install unilasso package from github (based on this link: https://github.com/trevorhastie/uniLasso/blob/main/README.md)\n"
   ]
  },
  {
   "cell_type": "markdown",
   "id": "662c01ef",
   "metadata": {},
   "source": [
    "[[1]]\n",
    "[1] \"Auto MPG\"\n",
    " \n",
    "[[2]]\n",
    "[1] \"Automobile\"\n",
    " \n",
    "[[3]]\n",
    "[1] \"Liver Disorders\" (no missing values)\n",
    " \n",
    "[[4]]\n",
    "[1] \"Servo\" (no missing values)\n",
    " \n",
    "[[5]]\n",
    "[1] \"Forest Fires\" (no missing values)\n",
    " \n",
    "[[6]]\n",
    "[1] \"Concrete Compressive Strength\"\n",
    " \n",
    "[[7]]\n",
    "[1] \"Communities and Crime\" (no missing values)\n",
    " \n",
    "[[8]]\n",
    "[1] \"Parkinsons Telemonitoring\"\n",
    " \n",
    "[[9]]\n",
    "[1] \"Communities and Crime Unnormalized\"\n",
    " \n",
    "[[10]]\n",
    "[1] \"Bike Sharing\" (no missing values)\n",
    " \n",
    "[[11]]\n",
    "[1] \"Airfoil Self-Noise\"\n",
    " \n",
    "[[12]]\n",
    "[1] \"Combined Cycle Power Plant\"\n",
    " \n",
    "[[13]]\n",
    "[1] \"Facebook Metrics\"\n",
    " \n",
    "[[14]]\n",
    "[1] \"Appliances Energy Prediction\" (no missing values)\n",
    " \n",
    "[[15]]\n",
    "[1] \"Beijing PM2.5\"\n",
    " \n",
    "[[16]]\n",
    "[1] \"Stock Portfolio Performance\" (no missing values)\n",
    " \n",
    "[[17]]\n",
    "[1] \"Daily Demand Forecasting Orders\" (no missing values)\n",
    " \n",
    "[[18]]\n",
    "[1] \"Superconductivty Data\" \n",
    " \n",
    "[[19]]\n",
    "[1] \"Real Estate Valuation\" (no missing values)\n",
    " \n",
    "[[20]]\n",
    "[1] \"Metro Interstate Traffic Volume\"  (no missing values?)\n",
    " \n",
    "[[21]]\n",
    "[1] \"Power Consumption of Tetouan City\" (no missing values)\n",
    " \n",
    "[[22]]\n",
    "[1] \"Infrared Thermography Temperature\" \n"
   ]
  },
  {
   "cell_type": "code",
   "execution_count": 27,
   "id": "0dcd426a",
   "metadata": {},
   "outputs": [
    {
     "name": "stdout",
     "output_type": "stream",
     "text": [
      "Dimension of X: (1020, 33)\n",
      "Missing values in each column of X:\n",
      "Distance    2\n",
      "dtype: int64\n",
      "Missing values in y:\n",
      "Series([], dtype: int64)\n"
     ]
    }
   ],
   "source": [
    "# fetch dataset \n",
    "infrared_thermography_temperature = fetch_ucirepo(id=925) \n",
    "  \n",
    "# data (as pandas dataframes) \n",
    "X = infrared_thermography_temperature.data.features \n",
    "y = infrared_thermography_temperature.data.targets \n",
    "\n",
    "\n",
    "# check missing values in the dataset\n",
    "X_missing = X.isnull().sum()\n",
    "y_missing = y.isnull().sum()\n",
    "# only print the column that has missing values \n",
    "X_missing = X_missing[X_missing > 0]\n",
    "y_missing = y_missing[y_missing > 0]\n",
    "print(\"Dimension of X:\", X.shape)\n",
    "print(\"Missing values in each column of X:\")\n",
    "print(X_missing)\n",
    "print(\"Missing values in y:\")\n",
    "print(y_missing)"
   ]
  },
  {
   "cell_type": "code",
   "execution_count": 25,
   "id": "2a769095",
   "metadata": {},
   "outputs": [
    {
     "name": "stdout",
     "output_type": "stream",
     "text": [
      "Dimension of X: (52416, 6)\n",
      "Missing values in each column of X:\n",
      "Series([], dtype: int64)\n",
      "Missing values in y:\n",
      "Series([], dtype: int64)\n"
     ]
    }
   ],
   "source": [
    "# fetch dataset \n",
    "power_consumption_of_tetouan_city = fetch_ucirepo(id=849) \n",
    "  \n",
    "# data (as pandas dataframes) \n",
    "X = power_consumption_of_tetouan_city.data.features \n",
    "y = power_consumption_of_tetouan_city.data.targets \n",
    "\n",
    "\n",
    "# check missing values in the dataset\n",
    "X_missing = X.isnull().sum()\n",
    "y_missing = y.isnull().sum()\n",
    "# only print the column that has missing values \n",
    "X_missing = X_missing[X_missing > 0]\n",
    "y_missing = y_missing[y_missing > 0]\n",
    "print(\"Dimension of X:\", X.shape)\n",
    "print(\"Missing values in each column of X:\")\n",
    "print(X_missing)\n",
    "print(\"Missing values in y:\")\n",
    "print(y_missing)"
   ]
  },
  {
   "cell_type": "code",
   "execution_count": 24,
   "id": "2d453e12",
   "metadata": {},
   "outputs": [
    {
     "name": "stdout",
     "output_type": "stream",
     "text": [
      "Dimension of X: (48204, 8)\n",
      "Missing values in each column of X:\n",
      "holiday    48143\n",
      "dtype: int64\n",
      "Missing values in y:\n",
      "Series([], dtype: int64)\n"
     ]
    }
   ],
   "source": [
    "# fetch dataset \n",
    "metro_interstate_traffic_volume = fetch_ucirepo(id=492) \n",
    "  \n",
    "# data (as pandas dataframes) \n",
    "X = metro_interstate_traffic_volume.data.features \n",
    "y = metro_interstate_traffic_volume.data.targets \n",
    "  \n",
    "\n",
    "# check missing values in the dataset\n",
    "X_missing = X.isnull().sum()\n",
    "y_missing = y.isnull().sum()\n",
    "# only print the column that has missing values \n",
    "X_missing = X_missing[X_missing > 0]\n",
    "y_missing = y_missing[y_missing > 0]\n",
    "print(\"Dimension of X:\", X.shape)\n",
    "print(\"Missing values in each column of X:\")\n",
    "print(X_missing)\n",
    "print(\"Missing values in y:\")\n",
    "print(y_missing)"
   ]
  },
  {
   "cell_type": "code",
   "execution_count": 23,
   "id": "bf5fbb3e",
   "metadata": {},
   "outputs": [
    {
     "name": "stdout",
     "output_type": "stream",
     "text": [
      "Dimension of X: (414, 6)\n",
      "Missing values in each column of X:\n",
      "Series([], dtype: int64)\n",
      "Missing values in y:\n",
      "Series([], dtype: int64)\n"
     ]
    }
   ],
   "source": [
    "# fetch dataset \n",
    "real_estate_valuation = fetch_ucirepo(id=477) \n",
    "  \n",
    "# data (as pandas dataframes) \n",
    "X = real_estate_valuation.data.features \n",
    "y = real_estate_valuation.data.targets \n",
    "\n",
    "\n",
    "# check missing values in the dataset\n",
    "X_missing = X.isnull().sum()\n",
    "y_missing = y.isnull().sum()\n",
    "# only print the column that has missing values \n",
    "X_missing = X_missing[X_missing > 0]\n",
    "y_missing = y_missing[y_missing > 0]\n",
    "print(\"Dimension of X:\", X.shape)\n",
    "print(\"Missing values in each column of X:\")\n",
    "print(X_missing)\n",
    "print(\"Missing values in y:\")\n",
    "print(y_missing)\n"
   ]
  },
  {
   "cell_type": "code",
   "execution_count": 22,
   "id": "529b6abc",
   "metadata": {},
   "outputs": [
    {
     "name": "stdout",
     "output_type": "stream",
     "text": [
      "Dimension of X: (60, 12)\n",
      "Missing values in each column of X:\n",
      "Series([], dtype: int64)\n",
      "Missing values in y:\n",
      "Series([], dtype: int64)\n"
     ]
    }
   ],
   "source": [
    "# fetch dataset \n",
    "daily_demand_forecasting_orders = fetch_ucirepo(id=409) \n",
    "  \n",
    "# data (as pandas dataframes) \n",
    "X = daily_demand_forecasting_orders.data.features \n",
    "y = daily_demand_forecasting_orders.data.targets \n",
    "\n",
    "# check missing values in the dataset\n",
    "X_missing = X.isnull().sum()\n",
    "y_missing = y.isnull().sum()\n",
    "# only print the column that has missing values \n",
    "X_missing = X_missing[X_missing > 0]\n",
    "y_missing = y_missing[y_missing > 0]\n",
    "print(\"Dimension of X:\", X.shape)\n",
    "print(\"Missing values in each column of X:\")\n",
    "print(X_missing)\n",
    "print(\"Missing values in y:\")\n",
    "print(y_missing)"
   ]
  },
  {
   "cell_type": "code",
   "execution_count": 21,
   "id": "2295b33c",
   "metadata": {},
   "outputs": [
    {
     "name": "stdout",
     "output_type": "stream",
     "text": [
      "Dimension of X: (315, 12)\n",
      "Missing values in each column of X:\n",
      "Series([], dtype: int64)\n",
      "Missing values in y:\n",
      "Series([], dtype: int64)\n"
     ]
    }
   ],
   "source": [
    "# fetch dataset \n",
    "stock_portfolio_performance = fetch_ucirepo(id=390) \n",
    "  \n",
    "# data (as pandas dataframes) \n",
    "X = stock_portfolio_performance.data.features \n",
    "y = stock_portfolio_performance.data.targets \n",
    "  \n",
    "# check missing values in the dataset\n",
    "X_missing = X.isnull().sum()\n",
    "y_missing = y.isnull().sum()\n",
    "# only print the column that has missing values \n",
    "X_missing = X_missing[X_missing > 0]\n",
    "y_missing = y_missing[y_missing > 0]\n",
    "print(\"Dimension of X:\", X.shape)\n",
    "print(\"Missing values in each column of X:\")\n",
    "print(X_missing)\n",
    "print(\"Missing values in y:\")\n",
    "print(y_missing)"
   ]
  },
  {
   "cell_type": "code",
   "execution_count": 20,
   "id": "a36cb591",
   "metadata": {},
   "outputs": [
    {
     "name": "stdout",
     "output_type": "stream",
     "text": [
      "Dimension of X: (43824, 11)\n",
      "Missing values in each column of X:\n",
      "Series([], dtype: int64)\n",
      "Missing values in y:\n",
      "pm2.5    2067\n",
      "dtype: int64\n"
     ]
    }
   ],
   "source": [
    "# fetch dataset \n",
    "beijing_pm2_5 = fetch_ucirepo(id=381) \n",
    "  \n",
    "# data (as pandas dataframes) \n",
    "X = beijing_pm2_5.data.features \n",
    "y = beijing_pm2_5.data.targets \n",
    "\n",
    "# check missing values in the dataset\n",
    "X_missing = X.isnull().sum()\n",
    "y_missing = y.isnull().sum()\n",
    "# only print the column that has missing values \n",
    "X_missing = X_missing[X_missing > 0]\n",
    "y_missing = y_missing[y_missing > 0]\n",
    "print(\"Dimension of X:\", X.shape)\n",
    "print(\"Missing values in each column of X:\")\n",
    "print(X_missing)\n",
    "print(\"Missing values in y:\")\n",
    "print(y_missing)"
   ]
  },
  {
   "cell_type": "code",
   "execution_count": 19,
   "id": "6ca4628e",
   "metadata": {},
   "outputs": [
    {
     "name": "stdout",
     "output_type": "stream",
     "text": [
      "Dimension of X: (19735, 28)\n",
      "Missing values in each column of X:\n",
      "Series([], dtype: int64)\n",
      "Missing values in y:\n",
      "Series([], dtype: int64)\n"
     ]
    }
   ],
   "source": [
    "# fetch dataset \n",
    "appliances_energy_prediction = fetch_ucirepo(id=374) \n",
    "  \n",
    "# data (as pandas dataframes) \n",
    "X = appliances_energy_prediction.data.features \n",
    "y = appliances_energy_prediction.data.targets \n",
    "\n",
    "# check missing values in the dataset\n",
    "X_missing = X.isnull().sum()\n",
    "y_missing = y.isnull().sum()\n",
    "# only print the column that has missing values \n",
    "X_missing = X_missing[X_missing > 0]\n",
    "y_missing = y_missing[y_missing > 0]\n",
    "print(\"Dimension of X:\", X.shape)\n",
    "print(\"Missing values in each column of X:\")\n",
    "print(X_missing)\n",
    "print(\"Missing values in y:\")\n",
    "print(y_missing)"
   ]
  },
  {
   "cell_type": "code",
   "execution_count": 18,
   "id": "cf32b92b",
   "metadata": {},
   "outputs": [
    {
     "name": "stdout",
     "output_type": "stream",
     "text": [
      "Dimension of X: (500, 18)\n",
      "Missing values in each column of X:\n",
      "Paid     1\n",
      "like     1\n",
      "share    4\n",
      "dtype: int64\n",
      "Missing values in y:\n",
      "Series([], dtype: int64)\n"
     ]
    }
   ],
   "source": [
    "# fetch dataset \n",
    "facebook_metrics = fetch_ucirepo(id=368) \n",
    "  \n",
    "# data (as pandas dataframes) \n",
    "X = facebook_metrics.data.features \n",
    "y = facebook_metrics.data.targets \n",
    "\n",
    "# check missing values in the dataset\n",
    "X_missing = X.isnull().sum()\n",
    "y_missing = y.isnull().sum()\n",
    "# only print the column that has missing values \n",
    "X_missing = X_missing[X_missing > 0]\n",
    "y_missing = y_missing[y_missing > 0]\n",
    "print(\"Dimension of X:\", X.shape)\n",
    "print(\"Missing values in each column of X:\")\n",
    "print(X_missing)\n",
    "print(\"Missing values in y:\")\n",
    "print(y_missing)"
   ]
  },
  {
   "cell_type": "code",
   "execution_count": 17,
   "id": "3a16a7df",
   "metadata": {},
   "outputs": [
    {
     "name": "stdout",
     "output_type": "stream",
     "text": [
      "Dimension of X: (17379, 13)\n",
      "Missing values in each column of X:\n",
      "Series([], dtype: int64)\n",
      "Missing values in y:\n",
      "Series([], dtype: int64)\n"
     ]
    }
   ],
   "source": [
    "# fetch dataset \n",
    "bike_sharing = fetch_ucirepo(id=275) \n",
    "  \n",
    "# data (as pandas dataframes) \n",
    "X = bike_sharing.data.features \n",
    "y = bike_sharing.data.targets \n",
    "\n",
    "# check missing values in the dataset\n",
    "X_missing = X.isnull().sum()\n",
    "y_missing = y.isnull().sum()\n",
    "# only print the column that has missing values \n",
    "X_missing = X_missing[X_missing > 0]\n",
    "y_missing = y_missing[y_missing > 0]\n",
    "print(\"Dimension of X:\", X.shape)\n",
    "print(\"Missing values in each column of X:\")\n",
    "print(X_missing)\n",
    "print(\"Missing values in y:\")\n",
    "print(y_missing)"
   ]
  },
  {
   "cell_type": "code",
   "execution_count": 16,
   "id": "38180317",
   "metadata": {},
   "outputs": [
    {
     "name": "stdout",
     "output_type": "stream",
     "text": [
      "Dimension of X: (2215, 125)\n",
      "Missing values in each column of X:\n",
      "otherPerCap             1\n",
      "numPolice            1872\n",
      "policePerPop         1872\n",
      "policeField          1872\n",
      "policeFieldPerPop    1872\n",
      "policeCalls          1872\n",
      "policCallPerPop      1872\n",
      "policCallPerOffic    1872\n",
      "policePerPop2        1872\n",
      "racialMatch          1872\n",
      "pctPolicWhite        1872\n",
      "pctPolicBlack        1872\n",
      "pctPolicHisp         1872\n",
      "pctPolicAsian        1872\n",
      "pctPolicMinority     1872\n",
      "officDrugUnits       1872\n",
      "numDiffDrugsSeiz     1872\n",
      "policAveOT           1872\n",
      "policCarsAvail       1872\n",
      "policOperBudget      1872\n",
      "pctPolicPatrol       1872\n",
      "gangUnit             1872\n",
      "policBudgetPerPop    1872\n",
      "dtype: int64\n",
      "Missing values in y:\n",
      "rapes              208\n",
      "rapesPerPop        208\n",
      "robberies            1\n",
      "robbbPerPop          1\n",
      "assaults            13\n",
      "assaultPerPop       13\n",
      "burglaries           3\n",
      "burglPerPop          3\n",
      "larcenies            3\n",
      "larcPerPop           3\n",
      "autoTheft            3\n",
      "autoTheftPerPop      3\n",
      "arsons              91\n",
      "arsonsPerPop        91\n",
      "violentPerPop      221\n",
      "nonViolPerPop       97\n",
      "dtype: int64\n"
     ]
    }
   ],
   "source": [
    "# fetch dataset \n",
    "communities_and_crime_unnormalized = fetch_ucirepo(id=211) \n",
    "  \n",
    "# data (as pandas dataframes) \n",
    "X = communities_and_crime_unnormalized.data.features \n",
    "y = communities_and_crime_unnormalized.data.targets \n",
    "\n",
    "# check missing values in the dataset\n",
    "X_missing = X.isnull().sum()\n",
    "y_missing = y.isnull().sum()\n",
    "# only print the column that has missing values \n",
    "X_missing = X_missing[X_missing > 0]\n",
    "y_missing = y_missing[y_missing > 0]\n",
    "print(\"Dimension of X:\", X.shape)\n",
    "print(\"Missing values in each column of X:\")\n",
    "print(X_missing)\n",
    "print(\"Missing values in y:\")\n",
    "print(y_missing)"
   ]
  },
  {
   "cell_type": "code",
   "execution_count": 15,
   "id": "5344641e",
   "metadata": {},
   "outputs": [
    {
     "name": "stdout",
     "output_type": "stream",
     "text": [
      "Dimension of X: (1994, 127)\n",
      "Missing values in each column of X:\n",
      "Series([], dtype: int64)\n",
      "Missing values in y:\n",
      "Series([], dtype: int64)\n"
     ]
    }
   ],
   "source": [
    "# fetch dataset \n",
    "communities_and_crime = fetch_ucirepo(id=183) \n",
    "  \n",
    "# data (as pandas dataframes) \n",
    "X = communities_and_crime.data.features \n",
    "y = communities_and_crime.data.targets \n",
    "\n",
    "\n",
    "# check missing values in the dataset\n",
    "X_missing = X.isnull().sum()\n",
    "y_missing = y.isnull().sum()\n",
    "# only print the column that has missing values \n",
    "X_missing = X_missing[X_missing > 0]\n",
    "y_missing = y_missing[y_missing > 0]\n",
    "print(\"Dimension of X:\", X.shape)\n",
    "print(\"Missing values in each column of X:\")\n",
    "print(X_missing)\n",
    "print(\"Missing values in y:\")\n",
    "print(y_missing)"
   ]
  },
  {
   "cell_type": "code",
   "execution_count": 14,
   "id": "3c0b9ffe",
   "metadata": {},
   "outputs": [
    {
     "name": "stdout",
     "output_type": "stream",
     "text": [
      "Dimension of X: (1030, 8)\n",
      "Missing values in each column of X:\n",
      "Series([], dtype: int64)\n",
      "Missing values in y:\n",
      "Series([], dtype: int64)\n"
     ]
    }
   ],
   "source": [
    "# fetch dataset \n",
    "concrete_compressive_strength = fetch_ucirepo(id=165) \n",
    "  \n",
    "# data (as pandas dataframes) \n",
    "X = concrete_compressive_strength.data.features \n",
    "y = concrete_compressive_strength.data.targets \n",
    "\n",
    "# check missing values in the dataset\n",
    "X_missing = X.isnull().sum()\n",
    "y_missing = y.isnull().sum()\n",
    "# only print the column that has missing values \n",
    "X_missing = X_missing[X_missing > 0]\n",
    "y_missing = y_missing[y_missing > 0]\n",
    "print(\"Dimension of X:\", X.shape)\n",
    "print(\"Missing values in each column of X:\")\n",
    "print(X_missing)\n",
    "print(\"Missing values in y:\")\n",
    "print(y_missing)"
   ]
  },
  {
   "cell_type": "code",
   "execution_count": 13,
   "id": "8ec79069",
   "metadata": {},
   "outputs": [
    {
     "name": "stdout",
     "output_type": "stream",
     "text": [
      "Dimension of X: (517, 12)\n",
      "Missing values in each column of X:\n",
      "Series([], dtype: int64)\n",
      "Missing values in y:\n",
      "Series([], dtype: int64)\n"
     ]
    }
   ],
   "source": [
    "# fetch dataset \n",
    "forest_fires = fetch_ucirepo(id=162) \n",
    "  \n",
    "# data (as pandas dataframes) \n",
    "X = forest_fires.data.features \n",
    "y = forest_fires.data.targets \n",
    "\n",
    "\n",
    "# check missing values in the dataset\n",
    "X_missing = X.isnull().sum()\n",
    "y_missing = y.isnull().sum()\n",
    "# only print the column that has missing values \n",
    "X_missing = X_missing[X_missing > 0]\n",
    "y_missing = y_missing[y_missing > 0]\n",
    "print(\"Dimension of X:\", X.shape)\n",
    "print(\"Missing values in each column of X:\")\n",
    "print(X_missing)\n",
    "print(\"Missing values in y:\")\n",
    "print(y_missing)"
   ]
  },
  {
   "cell_type": "code",
   "execution_count": null,
   "id": "de2ec5e4",
   "metadata": {},
   "outputs": [
    {
     "name": "stdout",
     "output_type": "stream",
     "text": [
      "Dimension of X: (398, 7)\n",
      "Missing values in each column of X:\n",
      "horsepower    6\n",
      "dtype: int64\n",
      "Missing values in y:\n",
      "Series([], dtype: int64)\n"
     ]
    }
   ],
   "source": [
    "# auto_mpg dataset \n",
    "from ucimlrepo import fetch_ucirepo\n",
    "# fetch dataset \n",
    "auto_mpg = fetch_ucirepo(id=9) \n",
    "  \n",
    "# data (as pandas dataframes) \n",
    "X = auto_mpg.data.features \n",
    "y = auto_mpg.data.targets \n",
    "\n",
    "# check missing values in the dataset\n",
    "X_missing = X.isnull().sum()\n",
    "y_missing = y.isnull().sum()\n",
    "# only print the column that has missing values \n",
    "X_missing = X_missing[X_missing > 0]\n",
    "y_missing = y_missing[y_missing > 0]\n",
    "print(\"Dimension of X:\", X.shape)\n",
    "print(\"Missing values in each column of X:\")\n",
    "print(X_missing)\n",
    "print(\"Missing values in y:\")\n",
    "print(y_missing)"
   ]
  },
  {
   "cell_type": "code",
   "execution_count": 9,
   "id": "061cbbcb",
   "metadata": {},
   "outputs": [
    {
     "name": "stdout",
     "output_type": "stream",
     "text": [
      "Dimension of X: (205, 25)\n",
      "Missing values in each column of X:\n",
      "price                 4\n",
      "peak-rpm              2\n",
      "horsepower            2\n",
      "stroke                4\n",
      "bore                  4\n",
      "num-of-doors          2\n",
      "normalized-losses    41\n",
      "dtype: int64\n",
      "Missing values in y:\n",
      "Series([], dtype: int64)\n"
     ]
    }
   ],
   "source": [
    "# fetch dataset \n",
    "automobile = fetch_ucirepo(id=10) \n",
    "  \n",
    "# data (as pandas dataframes) \n",
    "X = automobile.data.features \n",
    "y = automobile.data.targets \n",
    "\n",
    "# check missing values in the dataset\n",
    "X_missing = X.isnull().sum()\n",
    "y_missing = y.isnull().sum()\n",
    "# only print the column that has missing values \n",
    "X_missing = X_missing[X_missing > 0]\n",
    "y_missing = y_missing[y_missing > 0]\n",
    "# print the dimension of X \n",
    "print(\"Dimension of X:\", X.shape)\n",
    "print(\"Missing values in each column of X:\")\n",
    "print(X_missing)\n",
    "print(\"Missing values in y:\")\n",
    "print(y_missing)"
   ]
  },
  {
   "cell_type": "code",
   "execution_count": 10,
   "id": "e0000a16",
   "metadata": {},
   "outputs": [
    {
     "name": "stdout",
     "output_type": "stream",
     "text": [
      "Dimension of X: (345, 5)\n",
      "Missing values in each column of X:\n",
      "Series([], dtype: int64)\n",
      "Missing values in y:\n",
      "Series([], dtype: int64)\n"
     ]
    }
   ],
   "source": [
    "# fetch dataset \n",
    "liver_disorders = fetch_ucirepo(id=60) \n",
    "  \n",
    "# data (as pandas dataframes) \n",
    "X = liver_disorders.data.features \n",
    "y = liver_disorders.data.targets \n",
    "\n",
    "# check missing values in the dataset\n",
    "X_missing = X.isnull().sum()\n",
    "y_missing = y.isnull().sum()\n",
    "# only print the column that has missing values \n",
    "X_missing = X_missing[X_missing > 0]\n",
    "y_missing = y_missing[y_missing > 0]\n",
    "# print the dimension of X \n",
    "print(\"Dimension of X:\", X.shape)\n",
    "print(\"Missing values in each column of X:\")\n",
    "print(X_missing)\n",
    "print(\"Missing values in y:\")\n",
    "print(y_missing)"
   ]
  },
  {
   "cell_type": "code",
   "execution_count": 12,
   "id": "22a67ccb",
   "metadata": {},
   "outputs": [
    {
     "name": "stdout",
     "output_type": "stream",
     "text": [
      "Dimension of X: (167, 4)\n",
      "Missing values in each column of X:\n",
      "Series([], dtype: int64)\n",
      "Missing values in y:\n",
      "Series([], dtype: int64)\n"
     ]
    }
   ],
   "source": [
    "# fetch dataset \n",
    "servo = fetch_ucirepo(id=87) \n",
    "  \n",
    "# data (as pandas dataframes) \n",
    "X = servo.data.features \n",
    "y = servo.data.targets \n",
    "\n",
    "\n",
    "# check missing values in the dataset\n",
    "X_missing = X.isnull().sum()\n",
    "y_missing = y.isnull().sum()\n",
    "# only print the column that has missing values \n",
    "X_missing = X_missing[X_missing > 0]\n",
    "y_missing = y_missing[y_missing > 0]\n",
    "# print the dimension of X \n",
    "print(\"Dimension of X:\", X.shape)\n",
    "print(\"Missing values in each column of X:\")\n",
    "print(X_missing)\n",
    "print(\"Missing values in y:\")\n",
    "print(y_missing)\n",
    "  "
   ]
  }
 ],
 "metadata": {
  "kernelspec": {
   "display_name": "mdi",
   "language": "python",
   "name": "python3"
  },
  "language_info": {
   "codemirror_mode": {
    "name": "ipython",
    "version": 3
   },
   "file_extension": ".py",
   "mimetype": "text/x-python",
   "name": "python",
   "nbconvert_exporter": "python",
   "pygments_lexer": "ipython3",
   "version": "3.10.14"
  }
 },
 "nbformat": 4,
 "nbformat_minor": 5
}
